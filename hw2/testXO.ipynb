{
 "cells": [
  {
   "cell_type": "code",
   "execution_count": 66,
   "metadata": {
    "collapsed": true
   },
   "outputs": [],
   "source": [
    "game_board = [0,1,-1,1,0,0,1,-1,-1]\n",
    "my_symbol = 'X'"
   ]
  },
  {
   "cell_type": "code",
   "execution_count": 2,
   "metadata": {
    "collapsed": true
   },
   "outputs": [],
   "source": [
    "import copy\n",
    "import sys"
   ]
  },
  {
   "cell_type": "code",
   "execution_count": 3,
   "metadata": {
    "collapsed": true
   },
   "outputs": [],
   "source": [
    "# check for game end state - either someone wins or board is full:\n",
    "def endTest(board):\n",
    "    # someone wins:\n",
    "    threes = ((1,2,3),(4,5,6),(7,8,9),(1,4,7),(2,5,8),(3,6,9),(1,5,9),(3,5,7))\n",
    "    for each in threes:\n",
    "        total = board[each[0]-1] + board[each[1]-1] + board[each[2]-1]\n",
    "        if total == -3 or total == 3:\n",
    "            return True\n",
    "    \n",
    "    # board is full:\n",
    "    for val in board:\n",
    "        if val == 0:\n",
    "            return False\n",
    "    return True"
   ]
  },
  {
   "cell_type": "code",
   "execution_count": 67,
   "metadata": {
    "collapsed": false
   },
   "outputs": [
    {
     "data": {
      "text/plain": [
       "False"
      ]
     },
     "execution_count": 67,
     "metadata": {},
     "output_type": "execute_result"
    }
   ],
   "source": [
    "endTest(game_board)"
   ]
  },
  {
   "cell_type": "code",
   "execution_count": 6,
   "metadata": {
    "collapsed": true
   },
   "outputs": [],
   "source": [
    "# return a list containing possible spots (1-9 values):\n",
    "def spots(board):\n",
    "    possible_spots = []\n",
    "    for ind, val in enumerate(board):\n",
    "        if val == 0:\n",
    "            possible_spots.append(ind+1)\n",
    "    return possible_spots"
   ]
  },
  {
   "cell_type": "code",
   "execution_count": 68,
   "metadata": {
    "collapsed": false
   },
   "outputs": [
    {
     "name": "stdout",
     "output_type": "stream",
     "text": [
      "1\n",
      "5\n",
      "6\n"
     ]
    }
   ],
   "source": [
    "for avspts in spots(game_board):\n",
    "    print avspts"
   ]
  },
  {
   "cell_type": "code",
   "execution_count": 7,
   "metadata": {
    "collapsed": false
   },
   "outputs": [],
   "source": [
    "# return the resulting board state if a particular (valid) move is taken:\n",
    "def result(board, spot, player):\n",
    "    if spot in spots(board):\n",
    "        boardCopy = copy.deepcopy(board)\n",
    "        if player == 'X':\n",
    "            boardCopy[spot-1] = 1\n",
    "        elif player == 'O':\n",
    "            boardCopy[spot-1] = -1\n",
    "        return boardCopy\n",
    "    else:\n",
    "        print \"You are testing a result from an INVALID move!\""
   ]
  },
  {
   "cell_type": "code",
   "execution_count": 69,
   "metadata": {
    "collapsed": false
   },
   "outputs": [
    {
     "name": "stdout",
     "output_type": "stream",
     "text": [
      "[0, 1, -1, 1, -1, 0, 1, -1, -1]\n",
      "[0, 1, -1, 1, 0, 0, 1, -1, -1]\n"
     ]
    }
   ],
   "source": [
    "print result(game_board, 5, 'O')\n",
    "print game_board"
   ]
  },
  {
   "cell_type": "code",
   "execution_count": 38,
   "metadata": {
    "collapsed": false
   },
   "outputs": [],
   "source": [
    "def finalScore(board, machine_symbol):\n",
    "    if endTest(board):                  # game over... remove if condition later\n",
    "        # print \"Game over reached!\"\n",
    "        threes = ((1,2,3),(4,5,6),(7,8,9),(1,4,7),(2,5,8),(3,6,9),(1,5,9),(3,5,7))\n",
    "        for each in threes:\n",
    "            total = board[each[0]-1] + board[each[1]-1] + board[each[2]-1]\n",
    "            if total == -3:                 # 'O' won\n",
    "                # print \"O won\"\n",
    "                if machine_symbol == 'O':   \n",
    "                    return 10\n",
    "                else:\n",
    "                    return -10\n",
    "            elif total == 3:                # 'X' won\n",
    "                # print \"X won\"\n",
    "                if machine_symbol == 'X':   \n",
    "                    return 10\n",
    "                else:\n",
    "                    return -10\n",
    "        return 0\n",
    "    else:\n",
    "        sys.exit(\"Cannot get score unless at end state!\")"
   ]
  },
  {
   "cell_type": "code",
   "execution_count": 41,
   "metadata": {
    "collapsed": false
   },
   "outputs": [
    {
     "data": {
      "text/plain": [
       "0"
      ]
     },
     "execution_count": 41,
     "metadata": {},
     "output_type": "execute_result"
    }
   ],
   "source": [
    "finalScore([1,-1,-1,-1,1,1,1,-1,-1], my_symbol)"
   ]
  },
  {
   "cell_type": "code",
   "execution_count": 87,
   "metadata": {
    "collapsed": true
   },
   "outputs": [],
   "source": [
    "class Node:\n",
    "    def __init__(self, board, machine_symbol, active_player):\n",
    "        self.state = board\n",
    "        self.machine_symbol = machine_symbol\n",
    "        self.player = active_player\n",
    "        self.parent = None"
   ]
  },
  {
   "cell_type": "code",
   "execution_count": 45,
   "metadata": {
    "collapsed": false
   },
   "outputs": [],
   "source": [
    "def switchPlayer(active_player):\n",
    "    if active_player == 'X':\n",
    "        return 'O'\n",
    "    else:\n",
    "        return 'X'"
   ]
  },
  {
   "cell_type": "code",
   "execution_count": null,
   "metadata": {
    "collapsed": true
   },
   "outputs": [],
   "source": [
    "def mymove(board, machine_symbol):\n",
    "    print \"Board as seen by the machine:\",\n",
    "    print board\n",
    "    print \"The machine is playing:\",\n",
    "    print machine_symbol\n",
    "\n",
    "    initial_node = Node(board, machine_symbol)\n",
    "    \n",
    "    bestmove = "
   ]
  },
  {
   "cell_type": "code",
   "execution_count": null,
   "metadata": {
    "collapsed": true
   },
   "outputs": [],
   "source": []
  },
  {
   "cell_type": "code",
   "execution_count": 84,
   "metadata": {
    "collapsed": false
   },
   "outputs": [],
   "source": [
    "def minimax(board, machine_symbol, active_player):\n",
    "    print \"active player:\"\n",
    "    print active_player\n",
    "    \n",
    "    if endTest(board):\n",
    "        print \"end config:\"\n",
    "        print board\n",
    "        final_score = finalScore(board, machine_symbol)\n",
    "        print \"final score:\"\n",
    "        print final_score\n",
    "        return final_score   \n",
    "    \n",
    "    scores = []   \n",
    "    for available_spot in spots(board):\n",
    "        print \"list of scores:\"\n",
    "        print scores\n",
    "        print \"available spot being considered:\"\n",
    "        print available_spot\n",
    "        \n",
    "        possible_board = result(board, available_spot, active_player)\n",
    "        print \"possible board if move at available spot:\"\n",
    "        print possible_board\n",
    "        \n",
    "        new_active_player = switchPlayer(active_player)\n",
    "        possible_finalscore = minimax(possible_board, machine_symbol, new_active_player) \n",
    "        scores.append(possible_finalscore)\n",
    "        print \"-------one move considered---------\"\n",
    "        \n",
    "    if active_player == machine_symbol:\n",
    "        print \"list of scores at THIS stage:\"\n",
    "        print scores\n",
    "        return max(scores)\n",
    "    else:\n",
    "        print \"list of scores at THIS stage:\"\n",
    "        print scores\n",
    "        return min(scores)"
   ]
  },
  {
   "cell_type": "code",
   "execution_count": 85,
   "metadata": {
    "collapsed": false
   },
   "outputs": [
    {
     "name": "stdout",
     "output_type": "stream",
     "text": [
      "active player:\n",
      "X\n",
      "list of scores:\n",
      "[]\n",
      "available spot being considered:\n",
      "1\n",
      "possible board if move at available spot:\n",
      "[1, 1, -1, 1, 0, 0, 1, -1, -1]\n",
      "active player:\n",
      "O\n",
      "end config:\n",
      "[1, 1, -1, 1, 0, 0, 1, -1, -1]\n",
      "final score:\n",
      "10\n",
      "-------one move considered---------\n",
      "list of scores:\n",
      "[10]\n",
      "available spot being considered:\n",
      "5\n",
      "possible board if move at available spot:\n",
      "[0, 1, -1, 1, 1, 0, 1, -1, -1]\n",
      "active player:\n",
      "O\n",
      "list of scores:\n",
      "[]\n",
      "available spot being considered:\n",
      "1\n",
      "possible board if move at available spot:\n",
      "[-1, 1, -1, 1, 1, 0, 1, -1, -1]\n",
      "active player:\n",
      "X\n",
      "list of scores:\n",
      "[]\n",
      "available spot being considered:\n",
      "6\n",
      "possible board if move at available spot:\n",
      "[-1, 1, -1, 1, 1, 1, 1, -1, -1]\n",
      "active player:\n",
      "O\n",
      "end config:\n",
      "[-1, 1, -1, 1, 1, 1, 1, -1, -1]\n",
      "final score:\n",
      "10\n",
      "-------one move considered---------\n",
      "list of scores at THIS stage:\n",
      "[10]\n",
      "-------one move considered---------\n",
      "list of scores:\n",
      "[10]\n",
      "available spot being considered:\n",
      "6\n",
      "possible board if move at available spot:\n",
      "[0, 1, -1, 1, 1, -1, 1, -1, -1]\n",
      "active player:\n",
      "X\n",
      "end config:\n",
      "[0, 1, -1, 1, 1, -1, 1, -1, -1]\n",
      "final score:\n",
      "-10\n",
      "-------one move considered---------\n",
      "list of scores at THIS stage:\n",
      "[10, -10]\n",
      "-------one move considered---------\n",
      "list of scores:\n",
      "[10, -10]\n",
      "available spot being considered:\n",
      "6\n",
      "possible board if move at available spot:\n",
      "[0, 1, -1, 1, 0, 1, 1, -1, -1]\n",
      "active player:\n",
      "O\n",
      "list of scores:\n",
      "[]\n",
      "available spot being considered:\n",
      "1\n",
      "possible board if move at available spot:\n",
      "[-1, 1, -1, 1, 0, 1, 1, -1, -1]\n",
      "active player:\n",
      "X\n",
      "list of scores:\n",
      "[]\n",
      "available spot being considered:\n",
      "5\n",
      "possible board if move at available spot:\n",
      "[-1, 1, -1, 1, 1, 1, 1, -1, -1]\n",
      "active player:\n",
      "O\n",
      "end config:\n",
      "[-1, 1, -1, 1, 1, 1, 1, -1, -1]\n",
      "final score:\n",
      "10\n",
      "-------one move considered---------\n",
      "list of scores at THIS stage:\n",
      "[10]\n",
      "-------one move considered---------\n",
      "list of scores:\n",
      "[10]\n",
      "available spot being considered:\n",
      "5\n",
      "possible board if move at available spot:\n",
      "[0, 1, -1, 1, -1, 1, 1, -1, -1]\n",
      "active player:\n",
      "X\n",
      "list of scores:\n",
      "[]\n",
      "available spot being considered:\n",
      "1\n",
      "possible board if move at available spot:\n",
      "[1, 1, -1, 1, -1, 1, 1, -1, -1]\n",
      "active player:\n",
      "O\n",
      "end config:\n",
      "[1, 1, -1, 1, -1, 1, 1, -1, -1]\n",
      "final score:\n",
      "10\n",
      "-------one move considered---------\n",
      "list of scores at THIS stage:\n",
      "[10]\n",
      "-------one move considered---------\n",
      "list of scores at THIS stage:\n",
      "[10, 10]\n",
      "-------one move considered---------\n",
      "list of scores at THIS stage:\n",
      "[10, -10, 10]\n"
     ]
    },
    {
     "data": {
      "text/plain": [
       "10"
      ]
     },
     "execution_count": 85,
     "metadata": {},
     "output_type": "execute_result"
    }
   ],
   "source": [
    "minimax(game_board, my_symbol, my_symbol)"
   ]
  },
  {
   "cell_type": "code",
   "execution_count": 86,
   "metadata": {
    "collapsed": false
   },
   "outputs": [
    {
     "data": {
      "text/plain": [
       "'X'"
      ]
     },
     "execution_count": 86,
     "metadata": {},
     "output_type": "execute_result"
    }
   ],
   "source": [
    "my_symbol"
   ]
  },
  {
   "cell_type": "code",
   "execution_count": null,
   "metadata": {
    "collapsed": true
   },
   "outputs": [],
   "source": []
  }
 ],
 "metadata": {
  "kernelspec": {
   "display_name": "Python 2",
   "language": "python",
   "name": "python2"
  },
  "language_info": {
   "codemirror_mode": {
    "name": "ipython",
    "version": 2
   },
   "file_extension": ".py",
   "mimetype": "text/x-python",
   "name": "python",
   "nbconvert_exporter": "python",
   "pygments_lexer": "ipython2",
   "version": "2.7.6"
  }
 },
 "nbformat": 4,
 "nbformat_minor": 0
}
