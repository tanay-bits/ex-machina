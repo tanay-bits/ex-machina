{
 "cells": [
  {
   "cell_type": "code",
   "execution_count": 61,
   "metadata": {
    "collapsed": true
   },
   "outputs": [],
   "source": [
    "board = [0,0,0,0,0,0,0,0,0]\n",
    "machine_symbol = 'X' if user_symbol is 'O' else 'O'"
   ]
  },
  {
   "cell_type": "code",
   "execution_count": 2,
   "metadata": {
    "collapsed": true
   },
   "outputs": [],
   "source": [
    "user_symbol = 'O'"
   ]
  },
  {
   "cell_type": "code",
   "execution_count": 3,
   "metadata": {
    "collapsed": true
   },
   "outputs": [],
   "source": [
    "import copy"
   ]
  },
  {
   "cell_type": "code",
   "execution_count": 30,
   "metadata": {
    "collapsed": true
   },
   "outputs": [],
   "source": [
    "def terminalTest(state):\n",
    "    threes = ((1,2,3),(4,5,6),(7,8,9),(1,4,7),(2,5,8),(3,6,9),(1,5,9),(3,5,7))\n",
    "    for each in threes:\n",
    "        total = state[each[0]-1] + state[each[1]-1] + state[each[2]-1]\n",
    "        if total == -3 or total == 3:\n",
    "            return True\n",
    "    for val in state:\n",
    "        if val == 0:\n",
    "            return False\n",
    "    return True"
   ]
  },
  {
   "cell_type": "code",
   "execution_count": 31,
   "metadata": {
    "collapsed": false
   },
   "outputs": [
    {
     "data": {
      "text/plain": [
       "True"
      ]
     },
     "execution_count": 31,
     "metadata": {},
     "output_type": "execute_result"
    }
   ],
   "source": [
    "terminalTest([1,1,-1,-1,1,1,1,-1,-1])"
   ]
  },
  {
   "cell_type": "code",
   "execution_count": 32,
   "metadata": {
    "collapsed": true
   },
   "outputs": [],
   "source": [
    "def utility(state, machine_symbol):\n",
    "    if terminalTest(state):\n",
    "        threes = ((1,2,3),(4,5,6),(7,8,9),(1,4,7),(2,5,8),(3,6,9),(1,5,9),(3,5,7))\n",
    "        for each in threes:\n",
    "            total = state[each[0]-1] + state[each[1]-1] + state[each[2]-1]\n",
    "            if total == -3:                 # 'O' won\n",
    "                if machine_symbol == 'O':   \n",
    "                    return 10\n",
    "                else:\n",
    "                    return 0\n",
    "            elif total == 3:                # 'X' won\n",
    "                if machine_symbol == 'X':   \n",
    "                    return 10\n",
    "                else:\n",
    "                    return 0\n",
    "        return 5                            # draw\n",
    "    else:\n",
    "        print \"Not a terminal state!\""
   ]
  },
  {
   "cell_type": "code",
   "execution_count": 35,
   "metadata": {
    "collapsed": false
   },
   "outputs": [
    {
     "data": {
      "text/plain": [
       "5"
      ]
     },
     "execution_count": 35,
     "metadata": {},
     "output_type": "execute_result"
    }
   ],
   "source": [
    "utility([1,1,-1,-1,1,1,1,-1,-1], 'O')"
   ]
  },
  {
   "cell_type": "code",
   "execution_count": 36,
   "metadata": {
    "collapsed": true
   },
   "outputs": [],
   "source": [
    "def actions(state):\n",
    "    possible_moves = []\n",
    "    for ind,val in enumerate(state):\n",
    "        if val == 0:\n",
    "            possible_moves.append(ind+1)\n",
    "    return possible_moves"
   ]
  },
  {
   "cell_type": "code",
   "execution_count": 63,
   "metadata": {
    "collapsed": false
   },
   "outputs": [
    {
     "name": "stdout",
     "output_type": "stream",
     "text": [
      "[0, 0, 0, 0, 0, 0, 0, 0, 0]\n",
      "[1, 2, 3, 4, 5, 6, 7, 8, 9]\n"
     ]
    },
    {
     "data": {
      "text/plain": [
       "'X'"
      ]
     },
     "execution_count": 63,
     "metadata": {},
     "output_type": "execute_result"
    }
   ],
   "source": [
    "print board\n",
    "print actions(board)\n",
    "machine_symbol"
   ]
  },
  {
   "cell_type": "code",
   "execution_count": 54,
   "metadata": {
    "collapsed": false
   },
   "outputs": [
    {
     "data": {
      "text/plain": [
       "False"
      ]
     },
     "execution_count": 54,
     "metadata": {},
     "output_type": "execute_result"
    }
   ],
   "source": [
    "machine_symbol = 'X'"
   ]
  },
  {
   "cell_type": "code",
   "execution_count": 55,
   "metadata": {
    "collapsed": false
   },
   "outputs": [],
   "source": [
    "def result(board,move,machine_symbol):\n",
    "    if move in actions(board):\n",
    "        boardCopy = copy.deepcopy(board)\n",
    "        if machine_symbol == 'X':\n",
    "            boardCopy[move-1] = 1\n",
    "        else:\n",
    "            boardCopy[move-1] = -1\n",
    "        return boardCopy\n",
    "    else:\n",
    "        print \"You are testing a result from an INVALID move!\""
   ]
  },
  {
   "cell_type": "code",
   "execution_count": 66,
   "metadata": {
    "collapsed": true
   },
   "outputs": [],
   "source": [
    "def min_value(state,machine_symbol):\n",
    "    if terminalTest(state):\n",
    "        return utility(state,machine_symbol)\n",
    "    v = 100     # +inf\n",
    "    for action in actions(state):\n",
    "        min_action_util = max_value(result(state,action,machine_symbol),machine_symbol)\n",
    "        if min_action_util < v:\n",
    "            v = min_action_util\n",
    "    return v\n",
    "\n",
    "def max_value(state,machine_symbol):\n",
    "    if terminalTest(state):\n",
    "        return utility(state,machine_symbol)\n",
    "    v = -100     # -inf\n",
    "    for action in actions(state):\n",
    "        max_action_util = min_value(result(state,action,machine_symbol),machine_symbol)\n",
    "        if max_action_util > v:\n",
    "            v = max_action_util\n",
    "    return v"
   ]
  },
  {
   "cell_type": "code",
   "execution_count": 64,
   "metadata": {
    "collapsed": false
   },
   "outputs": [
    {
     "name": "stdout",
     "output_type": "stream",
     "text": [
      "Board as seen by the machine: [0, 0, 0, 0, 0, 0, 0, 0, 0]\n",
      "The machine is playing: X\n"
     ]
    }
   ],
   "source": [
    "print \"Board as seen by the machine:\",\n",
    "print board\n",
    "print \"The machine is playing:\",\n",
    "print machine_symbol"
   ]
  },
  {
   "cell_type": "code",
   "execution_count": 79,
   "metadata": {
    "collapsed": false
   },
   "outputs": [
    {
     "name": "stdout",
     "output_type": "stream",
     "text": [
      "4\n",
      "10\n",
      "7\n",
      "10\n"
     ]
    }
   ],
   "source": [
    "for action in actions([1,1,-1,0,1,1,0,-1,-1]):\n",
    "    print action\n",
    "    action_util = min_value(result([1,1,-1,0,1,1,0,-1,-1],action,machine_symbol),machine_symbol)\n",
    "    print action_util"
   ]
  },
  {
   "cell_type": "code",
   "execution_count": 69,
   "metadata": {
    "collapsed": false
   },
   "outputs": [
    {
     "data": {
      "text/plain": [
       "10"
      ]
     },
     "execution_count": 69,
     "metadata": {},
     "output_type": "execute_result"
    }
   ],
   "source": [
    "action_util"
   ]
  },
  {
   "cell_type": "code",
   "execution_count": null,
   "metadata": {
    "collapsed": true
   },
   "outputs": [],
   "source": []
  }
 ],
 "metadata": {
  "kernelspec": {
   "display_name": "Python 2",
   "language": "python",
   "name": "python2"
  },
  "language_info": {
   "codemirror_mode": {
    "name": "ipython",
    "version": 2
   },
   "file_extension": ".py",
   "mimetype": "text/x-python",
   "name": "python",
   "nbconvert_exporter": "python",
   "pygments_lexer": "ipython2",
   "version": "2.7.6"
  }
 },
 "nbformat": 4,
 "nbformat_minor": 0
}
