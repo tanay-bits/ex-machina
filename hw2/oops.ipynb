{
 "cells": [
  {
   "cell_type": "code",
   "execution_count": 1,
   "metadata": {
    "collapsed": true
   },
   "outputs": [],
   "source": [
    "import copy\n",
    "import sys"
   ]
  },
  {
   "cell_type": "code",
   "execution_count": 2,
   "metadata": {
    "collapsed": true
   },
   "outputs": [],
   "source": [
    "# switch active player:\n",
    "def switchPlayer(active_player):\n",
    "    if active_player == 'X':\n",
    "        return 'O'\n",
    "    elif active_player == 'O':\n",
    "        return 'X'\n",
    "    else:\n",
    "        sys.exit(\"active player not valid\")    #debug code"
   ]
  },
  {
   "cell_type": "code",
   "execution_count": 3,
   "metadata": {
    "collapsed": true
   },
   "outputs": [],
   "source": [
    "class Node:\n",
    "    def __init__(self, board, machine_symbol, active_player):\n",
    "        self.state = board\n",
    "        self.machine_symbol = machine_symbol\n",
    "        self.active_player = active_player\n",
    "        self.choice = None\n",
    "        \n",
    "    # check for game end state - either someone wins or board is full:\n",
    "    def endTest(self):\n",
    "        # someone wins:\n",
    "        threes = ((1,2,3),(4,5,6),(7,8,9),(1,4,7),(2,5,8),(3,6,9),(1,5,9),(3,5,7))\n",
    "        for each in threes:\n",
    "            total = self.state[each[0]-1] + self.state[each[1]-1] + self.state[each[2]-1]\n",
    "            if total == -3 or total == 3:\n",
    "                return True\n",
    "        # board is full:\n",
    "        for val in self.state:\n",
    "            if val == 0:\n",
    "                return False\n",
    "        return True\n",
    "    \n",
    "    # return a list containing possible spots (1-9 values):\n",
    "    def spots(self):\n",
    "        possible_spots = []\n",
    "        for ind, val in enumerate(self.state):\n",
    "            if val == 0:\n",
    "                possible_spots.append(ind+1)\n",
    "        return possible_spots\n",
    "    \n",
    "    # return the resulting 'node' if a particular (valid) move is taken:\n",
    "    def result(self, spot):\n",
    "        if spot in self.spots():\n",
    "            boardCopy = copy.deepcopy(self.state)\n",
    "            if self.active_player == 'X':\n",
    "                boardCopy[spot-1] = 1\n",
    "            elif self.active_player == 'O':\n",
    "                boardCopy[spot-1] = -1\n",
    "            else:\n",
    "                print \"active player not valid\"    #debug code\n",
    "                \n",
    "            new_active_player = switchPlayer(self.active_player)\n",
    "            child_node = Node(boardCopy, self.machine_symbol, new_active_player)\n",
    "            return child_node\n",
    "        else:\n",
    "            print \"You are testing a result from an INVALID move!\"   #debug code"
   ]
  },
  {
   "cell_type": "code",
   "execution_count": 4,
   "metadata": {
    "collapsed": true
   },
   "outputs": [],
   "source": [
    "def finalScore(node):\n",
    "    if node.endTest():                  # game over... remove if condition later\n",
    "        # print \"Game over reached!\"\n",
    "        threes = ((1,2,3),(4,5,6),(7,8,9),(1,4,7),(2,5,8),(3,6,9),(1,5,9),(3,5,7))\n",
    "        for each in threes:\n",
    "            total = node.state[each[0]-1] + node.state[each[1]-1] + node.state[each[2]-1]\n",
    "            if total == -3:                 # 'O' won\n",
    "                # print \"O won\"\n",
    "                if node.machine_symbol == 'O':   \n",
    "                    return 10\n",
    "                else:\n",
    "                    return -10\n",
    "            elif total == 3:                # 'X' won\n",
    "                # print \"X won\"\n",
    "                if node.machine_symbol == 'X':   \n",
    "                    return 10\n",
    "                else:\n",
    "                    return -10\n",
    "        return 0\n",
    "    else:\n",
    "        sys.exit(\"Cannot get score unless at end state!\")"
   ]
  },
  {
   "cell_type": "code",
   "execution_count": 5,
   "metadata": {
    "collapsed": true
   },
   "outputs": [],
   "source": [
    "def minimax(node):\n",
    "    if node.endTest():\n",
    "        final_score = finalScore(node)\n",
    "        return final_score\n",
    "    \n",
    "    scores = []\n",
    "    moves = []\n",
    "    \n",
    "    for available_spot in node.spots():\n",
    "        possible_node = node.result(available_spot)\n",
    "        possible_utility = minimax(possible_node)\n",
    "        scores.append(possible_utility)\n",
    "        moves.append(available_spot)\n",
    "        \n",
    "    if node.active_player == node.machine_symbol:\n",
    "        ind_max_score = scores.index(max(scores))\n",
    "        node.choice = moves[ind_max_score]\n",
    "        return scores[ind_max_score]\n",
    "    else:\n",
    "        ind_min_score = scores.index(min(scores))\n",
    "        node.choice = moves[ind_min_score]\n",
    "        return scores[ind_min_score]"
   ]
  },
  {
   "cell_type": "code",
   "execution_count": 6,
   "metadata": {
    "collapsed": true
   },
   "outputs": [],
   "source": [
    "def mymove(board, machine_symbol):\n",
    "    print \"Board as seen by the machine:\",\n",
    "    print board\n",
    "    print \"The machine is playing:\",\n",
    "    print machine_symbol\n",
    "\n",
    "    initial_node = Node(board, machine_symbol, machine_symbol)\n",
    "    utility = minimax(initial_node)\n",
    "    bestmove = initial_node.choice\n",
    "    print bestmove"
   ]
  },
  {
   "cell_type": "code",
   "execution_count": 13,
   "metadata": {
    "collapsed": true
   },
   "outputs": [],
   "source": [
    "game_board = [1,-1,1,-1,0,1,0,0,0]\n",
    "my_symbol = 'O'"
   ]
  },
  {
   "cell_type": "code",
   "execution_count": 14,
   "metadata": {
    "collapsed": false
   },
   "outputs": [
    {
     "name": "stdout",
     "output_type": "stream",
     "text": [
      "Board as seen by the machine: [1, -1, 1, -1, 0, 1, 0, 0, 0]\n",
      "The machine is playing: O\n",
      "9\n"
     ]
    }
   ],
   "source": [
    "mymove(game_board, my_symbol)"
   ]
  },
  {
   "cell_type": "code",
   "execution_count": null,
   "metadata": {
    "collapsed": true
   },
   "outputs": [],
   "source": []
  }
 ],
 "metadata": {
  "kernelspec": {
   "display_name": "Python 2",
   "language": "python",
   "name": "python2"
  },
  "language_info": {
   "codemirror_mode": {
    "name": "ipython",
    "version": 2
   },
   "file_extension": ".py",
   "mimetype": "text/x-python",
   "name": "python",
   "nbconvert_exporter": "python",
   "pygments_lexer": "ipython2",
   "version": "2.7.6"
  }
 },
 "nbformat": 4,
 "nbformat_minor": 0
}
