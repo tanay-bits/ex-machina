{
 "cells": [
  {
   "cell_type": "code",
   "execution_count": 1,
   "metadata": {
    "collapsed": false
   },
   "outputs": [],
   "source": [
    "import facts_and_rules, read"
   ]
  },
  {
   "cell_type": "code",
   "execution_count": 2,
   "metadata": {
    "collapsed": false
   },
   "outputs": [],
   "source": [
    "facts, rules = read.read_tokenize(\"statements.txt\")"
   ]
  },
  {
   "cell_type": "code",
   "execution_count": 3,
   "metadata": {
    "collapsed": true
   },
   "outputs": [],
   "source": [
    "KB = []\n",
    "RB = []\n",
    "\n",
    "for f in facts:\n",
    "    KB.append(facts_and_rules.statement(f))\n",
    "    # print KB[-1].pretty()\n",
    "\n",
    "for r in rules:\n",
    "    RB.append(facts_and_rules.rule(r[0], r[1]))\n",
    "    # print RB[-1].pretty()"
   ]
  },
  {
   "cell_type": "code",
   "execution_count": 29,
   "metadata": {
    "collapsed": true
   },
   "outputs": [],
   "source": [
    "fact = KB[0]\n",
    "rule = RB[0]"
   ]
  },
  {
   "cell_type": "code",
   "execution_count": 40,
   "metadata": {
    "collapsed": false
   },
   "outputs": [
    {
     "name": "stdout",
     "output_type": "stream",
     "text": [
      "['isa', '?y', '?z']\n",
      "['isa', 'cube', 'block']\n"
     ]
    }
   ],
   "source": [
    "p = rule.lhs[1].full\n",
    "f = fact.full\n",
    "print p \n",
    "print f"
   ]
  },
  {
   "cell_type": "code",
   "execution_count": 33,
   "metadata": {
    "collapsed": false
   },
   "outputs": [
    {
     "name": "stdout",
     "output_type": "stream",
     "text": [
      "{'?z': 'block', '?y': 'cube'}\n"
     ]
    }
   ],
   "source": [
    "bindings = facts_and_rules.match(rule.lhs[1],fact)\n",
    "print bindings"
   ]
  },
  {
   "cell_type": "code",
   "execution_count": 36,
   "metadata": {
    "collapsed": false
   },
   "outputs": [
    {
     "data": {
      "text/plain": [
       "['isa', 'cube', 'block']"
      ]
     },
     "execution_count": 36,
     "metadata": {},
     "output_type": "execute_result"
    }
   ],
   "source": [
    "facts_and_rules.instantiate(rule.lhs[1].full, bindings)"
   ]
  },
  {
   "cell_type": "code",
   "execution_count": 71,
   "metadata": {
    "collapsed": false
   },
   "outputs": [
    {
     "data": {
      "text/plain": [
       "[['inst', '?x', '?y'], ['isa', '?y', '?z']]"
      ]
     },
     "execution_count": 71,
     "metadata": {},
     "output_type": "execute_result"
    }
   ],
   "source": [
    "map(lambda x: x.full, RB[0].lhs)"
   ]
  },
  {
   "cell_type": "code",
   "execution_count": 62,
   "metadata": {
    "collapsed": false
   },
   "outputs": [
    {
     "data": {
      "text/plain": [
       "[[['inst', '?x', '?y'], ['isa', '?y', '?z'], 'inst', '?x', '?z'],\n",
       " [['inst', '?x', 'cube'], 'flat', '?x'],\n",
       " [['on', '?x', '?y'], ['bigger', '?x', '?y'], 'covered', '?y'],\n",
       " [['married', '?x', '?y'], ['love', '?x', '?y'], 'happy', '?x'],\n",
       " [['married', '?x', '?y'], ['love', '?x', '?y'], 'happy', '?y'],\n",
       " [['covered', '?y'], '~clear', '?y']]"
      ]
     },
     "execution_count": 62,
     "metadata": {},
     "output_type": "execute_result"
    }
   ],
   "source": [
    "map(lambda x: RB[x].full, range(len(RB)))"
   ]
  },
  {
   "cell_type": "code",
   "execution_count": 69,
   "metadata": {
    "collapsed": false
   },
   "outputs": [
    {
     "data": {
      "text/plain": [
       "[[<facts_and_rules.statement at 0x7f5cad801c10>,\n",
       "  <facts_and_rules.statement at 0x7f5cad801c50>],\n",
       " [<facts_and_rules.statement at 0x7f5cad801d10>],\n",
       " [<facts_and_rules.statement at 0x7f5cad801dd0>,\n",
       "  <facts_and_rules.statement at 0x7f5cad801e10>],\n",
       " [<facts_and_rules.statement at 0x7f5cad801ed0>,\n",
       "  <facts_and_rules.statement at 0x7f5cad801f10>],\n",
       " [<facts_and_rules.statement at 0x7f5cad801f90>,\n",
       "  <facts_and_rules.statement at 0x7f5cad801fd0>],\n",
       " [<facts_and_rules.statement at 0x7f5cad80a0d0>]]"
      ]
     },
     "execution_count": 69,
     "metadata": {},
     "output_type": "execute_result"
    }
   ],
   "source": [
    "map(lambda x: RB[x].lhs, range(len(RB)))"
   ]
  },
  {
   "cell_type": "code",
   "execution_count": 63,
   "metadata": {
    "collapsed": false
   },
   "outputs": [
    {
     "data": {
      "text/plain": [
       "[['isa', 'cube', 'block'],\n",
       " ['isa', 'pyramid', 'block'],\n",
       " ['isa', 'sphere', 'block'],\n",
       " ['isa', 'box', 'container'],\n",
       " ['inst', 'bigbox', 'box'],\n",
       " ['size', 'bigbox', 'big'],\n",
       " ['color', 'bigbox', 'red'],\n",
       " ['inst', 'littlebox', 'box'],\n",
       " ['size', 'littlebox', 'small'],\n",
       " ['color', 'littlebox', 'blue'],\n",
       " ['inst', 'pyramid1', 'pyramid'],\n",
       " ['size', 'pyramid1', 'small'],\n",
       " ['color', 'pyramid1', 'blue'],\n",
       " ['inst', 'pyramid2', 'pyramid'],\n",
       " ['size', 'pyramid2', 'small'],\n",
       " ['color', 'pyramid2', 'green'],\n",
       " ['inst', 'pyramid3', 'pyramid'],\n",
       " ['size', 'pyramid3', 'big'],\n",
       " ['color', 'pyramid3', 'red'],\n",
       " ['inst', 'pyramid4', 'pyramid'],\n",
       " ['size', 'pyramid4', 'big'],\n",
       " ['color', 'pyramid4', 'red'],\n",
       " ['inst', 'cube1', 'cube'],\n",
       " ['inst', 'cube2', 'cube'],\n",
       " ['inst', 'cube3', 'cube'],\n",
       " ['inst', 'cube4', 'cube'],\n",
       " ['inst', 'sphere1', 'sphere']]"
      ]
     },
     "execution_count": 63,
     "metadata": {},
     "output_type": "execute_result"
    }
   ],
   "source": [
    "map(lambda x: KB[x].full, range(len(KB)))"
   ]
  },
  {
   "cell_type": "code",
   "execution_count": 66,
   "metadata": {
    "collapsed": false
   },
   "outputs": [
    {
     "data": {
      "text/plain": [
       "['isa', 'cube', 'block']"
      ]
     },
     "execution_count": 66,
     "metadata": {},
     "output_type": "execute_result"
    }
   ],
   "source": [
    "KB[0].full"
   ]
  },
  {
   "cell_type": "code",
   "execution_count": null,
   "metadata": {
    "collapsed": true
   },
   "outputs": [],
   "source": []
  }
 ],
 "metadata": {
  "kernelspec": {
   "display_name": "Python 2",
   "language": "python",
   "name": "python2"
  },
  "language_info": {
   "codemirror_mode": {
    "name": "ipython",
    "version": 2
   },
   "file_extension": ".py",
   "mimetype": "text/x-python",
   "name": "python",
   "nbconvert_exporter": "python",
   "pygments_lexer": "ipython2",
   "version": "2.7.6"
  }
 },
 "nbformat": 4,
 "nbformat_minor": 0
}
